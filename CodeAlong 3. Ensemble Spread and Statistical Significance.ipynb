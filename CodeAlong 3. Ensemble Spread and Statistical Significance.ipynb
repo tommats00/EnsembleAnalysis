{
 "cells": [
  {
   "cell_type": "markdown",
   "id": "276e68f9-f8bf-4faf-ae12-174e027e2694",
   "metadata": {},
   "source": [
    "# Ensemble Spread and Statistical Significance\n",
    "### Authors\n",
    "\n",
    "Samantha Stevenson sstevenson@ucsb.edu\n",
    "\n",
    "### Table of Contents\n",
    "\n",
    "[Goals](#purpose)\n",
    "\n",
    "[Import Packages](#path)\n",
    "\n",
    "[Load and Query the CMIP6 AWS Catalog](#load)\n",
    "\n",
    "[Pull Data of Interest: Historical Plus SSP](#data_io)\n",
    "\n",
    "[Apply CA State Region Mask](#mask)\n",
    "\n",
    "[Build PDFs of Regionally Averaged Data](#pdfs)\n",
    "\n",
    "[Perform Significance Tests](#sigtests)"
   ]
  },
  {
   "cell_type": "markdown",
   "id": "cb30bd8f-d70b-4146-a25b-1254dc0cb121",
   "metadata": {},
   "source": [
    "<a id='purpose'></a> \n",
    "## **Goals**\n",
    "\n",
    "In this tutorial, we will learn some techniques for assessing _statistical significance_ of changes in climate data, given the presence of _internal climate variability_ as measured by ensemble spread.\n",
    "\n",
    "This will allow you to practice skills learned in previous tutorials:\n",
    "- [Mapping Climate Data](https://github.com/climate-datalab/Map-Plots/blob/main/1.%20Mapping%20Climate%20Data.ipynb) (putting spatial data onto a map using Cartopy)\n",
    "- [Plotting Regional Time Series Using Shapefiles](https://github.com/climate-datalab/EnsembleAnalysis/blob/main/2.%20Plotting%20Regional%20Time%20Series%20Using%20Shapefiles.ipynb)  (masking out irregular regions from the climate model grid using shape files)\n",
    "\n",
    "while also learning some new skills that will be presented below:\n",
    "- **Database querying strategies** to take a more detailed look at what's inside the CMIP catalog;\n",
    "- **Creating probability distribution functions** based on either time-varying information from a _single_ ensemble member, or time-averaged information from _multiple_ ensemble members; and\n",
    "- **Applying T-tests and rank-sum tests** to compute the level of statistical significance of differences!\n",
    "\n",
    "### **This is the Code-Along version of tutorial 3!!** \n",
    "\n",
    "This notebook contains only a selected subset of the code for tutorial 3, so that it can be completed in a \"code along\" format in a classroom context. If you would like the fully completed version, please see \"3. Ensemble Spread and Statistics Significance.ipynb\" in this repo."
   ]
  },
  {
   "cell_type": "markdown",
   "id": "6191c539-4f84-42a4-a878-98832a22eb01",
   "metadata": {},
   "source": [
    "<a id='path'></a> \n",
    "## **Import Packages**\n",
    "\n",
    "As always, we begin by importing the necessary packages for our analysis. \n",
    "\n",
    "1) Packages from previous tutorial\n",
    "\n",
    "This tutorial assumes you have all the packages from tutorial 2 ([Plotting Regional Time Series Using Shapefiles](https://github.com/climate-datalab/EnsembleAnalysis/blob/main/2.%20Plotting%20Regional%20Time%20Series%20Using%20Shapefiles.ipynb)) installed; if you need more information on these packages, please refer to that tutorial.\n",
    "\n",
    "2) New package: `scipy`\n",
    "\n",
    "In addition to these packages, we'll also be working with a new one called Scipy! This is a really powerful package that's designed to do all sorts of complex scientific computations using the features of Numpy - some examples include solving differential equations and interpolating between missing data points. Here we're mainly going to be using Scipy's statistics functionality, which is stored in the `scipy.stats` sub-package. We can just load that one into our environment as `stats`."
   ]
  },
  {
   "cell_type": "code",
   "execution_count": 1,
   "id": "ce37a1d1-6d6f-45a1-8bfd-f8a0fca93511",
   "metadata": {},
   "outputs": [
    {
     "name": "stderr",
     "output_type": "stream",
     "text": [
      "ERROR 1: PROJ: proj_create_from_database: Open of /opt/anaconda3/envs/eds296-stevenson/share/proj failed\n"
     ]
    }
   ],
   "source": [
    "import xarray as xr\n",
    "import numpy as np\n",
    "import matplotlib.pyplot as plt\n",
    "import intake\n",
    "import s3fs\n",
    "import geopandas as gpd\n",
    "import cartopy.crs as ccrs\n",
    "import cartopy.feature as cfeature\n",
    "from shapely.geometry import Point\n",
    "import scipy.stats as stats"
   ]
  },
  {
   "cell_type": "markdown",
   "id": "e95b9d5d-d55d-471c-a6ed-5ac39a8ab632",
   "metadata": {},
   "source": [
    "<a id='load'></a> \n",
    "## **Load and Query the CMIP6 AWS Catalog**\n",
    "\n",
    "As we did in previous tutorials, we'll load the CMIP6 database hosted by Amazon Web Services:"
   ]
  },
  {
   "cell_type": "code",
   "execution_count": 2,
   "id": "1689e7d0-32ae-4b3f-8bcb-fb65cff3cc52",
   "metadata": {},
   "outputs": [],
   "source": [
    "# Open the CMIP6 data catalog, store as a variable\n",
    "catalog = intake.open_esm_datastore('https://cmip6-pds.s3.amazonaws.com/pangeo-cmip6.json')"
   ]
  },
  {
   "cell_type": "markdown",
   "id": "d2355059-6172-4829-aed8-b573abc0c97b",
   "metadata": {},
   "source": [
    "To make things a bit more interesting, let's practice looking through the catalog, to find a couple of good model ensembles to work with. \n",
    "\n",
    "Let's say we're trying to find some ensembles of **historical** output! Here is a recommended workflow to look through the catalog and pick some data.\n",
    "\n",
    "1) Specify the `experiment_id`: since the \"historical\" experiments are ALL part of the \"CMIP\" activity, you DON'T need to also set the `activity_id` field here.\n",
    "\n",
    "2) Specify the `table_id` and `variable_id` fields: sometimes different sets of variables are available with different models, so picking out one variable and time frequency can be helpful in identifying the exact ensemble members you'll be using."
   ]
  },
  {
   "cell_type": "code",
   "execution_count": 3,
   "id": "3e1baea4-132a-4029-9c62-d22a2196db5a",
   "metadata": {},
   "outputs": [],
   "source": [
    "# Specify search terms to query catalog \n",
    "# experiment_id: what experimental configuration do you want? Here we want historical \n",
    "\n",
    "# table_id: which part of the Earth system and time resolution do you want? Here we want monthly atmosphere data\n",
    "\n",
    "# variable_id: which climate variable do you want? \n",
    "\n",
    "# Extract the part of the catalog that goes with these search terms\n"
   ]
  },
  {
   "cell_type": "markdown",
   "id": "b41776b3-55d9-4d88-8704-958541e3f996",
   "metadata": {},
   "source": [
    "2) Take a look at the data frame to see how many different models there are that ran historical simulations: you can do this by applying the `.unique()` function to the `source_id` field in the catalog dataframe."
   ]
  },
  {
   "cell_type": "code",
   "execution_count": 26,
   "id": "ec972715-e074-4c13-b48f-9f3890b7c347",
   "metadata": {},
   "outputs": [],
   "source": [
    "# Find all unique models that ran historical simulations\n"
   ]
  },
  {
   "cell_type": "markdown",
   "id": "90415eac-adab-42d6-b563-6e7c00a2c500",
   "metadata": {},
   "source": [
    "3) Choose a couple of entries from the above at random, and see how many ensemble members are available in each. For the activities below we're going to want to have a fair amount of data available: let's set 5 members as an arbitrary minimum threshold. Let's also not use HUGE ensembles here, to make the code run faster! So... **can we find models that have between 5 and 10 historical ensemble members??**\n",
    "\n",
    "To answer this question, pick some model names, enter them as the `source_id` term in the call to `catalog.search`, then from the data frame that comes back as a result display the unique values of `member_id`. You can even get fancy, and **loop** over all the possible model `source_ids` then display the unique set of ensemble members that goes with each one!\n",
    "\n",
    "This is demonstrated in the code block below:"
   ]
  },
  {
   "cell_type": "code",
   "execution_count": null,
   "id": "7f2727c5-3603-4cc5-81a9-17e61f6c5c13",
   "metadata": {},
   "outputs": [],
   "source": [
    "# source_id: which model do you want? \n",
    "\n",
    "for src in source_id:\n",
    "    # Print out the name of the model we're working with, to keep track of things\n",
    "    print(src)\n",
    "    \n",
    "    # Extract the part of the catalog that goes with this model\n",
    "\n",
    "    # Print the unique member ids\n",
    "    \n",
    "    # AND/OR print the number of unique members\n"
   ]
  },
  {
   "cell_type": "markdown",
   "id": "79871052-81ea-47f4-b806-f6811ea2fb1e",
   "metadata": {},
   "source": [
    "After some playing with the results, I've decided to go with the following:\n",
    "- **ACCESS-CM2: 5 ensemble members**\n",
    "\n",
    "You can change this around if you want though!\n",
    "\n",
    "For a bit more information about ACCESS-CM2: this is an Australian climate model, the Australian Community Climate and Earth System Simulator. They have lots of background information about ACCESS on the [ACCESS homepage](https://research.csiro.au/access/about/)!\n",
    "\n",
    "**helpful tip:** if you're curious about any given model you might come across, just Google the name! There's probably a handy webpage out there waiting to explain it to you."
   ]
  },
  {
   "cell_type": "markdown",
   "id": "ddbd723f-96ca-4ce9-b5ad-6a157ec5913d",
   "metadata": {},
   "source": [
    "<a id='data_io'></a> \n",
    "## **Pull Data of Interest: Historical Plus SSP**\n",
    "\n",
    "Now that we've picked a model, let's go ahead and collect all the data for it. \n",
    "\n",
    "As an additional task, I'm ALSO going to demonstrate how to extract information for BOTH the historical and future projection data associated with a given model ensemble, and concatenate these together in a way that matches ensemble members to one another. This is a tool that will come in handy throughout your climate modeling adventures, since it allows you to:\n",
    "- be sure that you don't have any weird discontinuities in your time series from mismatches between ensemble members\n",
    "- easily subset your data for any time period you want, without worrying about whether it's in the historical or the SSP dataset\n",
    "\n",
    "We'll begin with more catalog queries, for our selected model ACCESS-CM2. But now we're going to do it twice: once for the historical simulations and once for the future projections! This means choosing a future scenario - just for the sake of picking something, we'll choose SSP3-7.0 (or in the CMIP6 catalog, `ssp370`)."
   ]
  },
  {
   "cell_type": "code",
   "execution_count": 6,
   "id": "686c6b9e-7e6d-4e2e-b29e-4f146c9f40ee",
   "metadata": {},
   "outputs": [],
   "source": [
    "# Extract data just for ACCESS-CM2\n",
    "# Specify search terms to query catalog \n",
    "\n",
    "# Extract historical data\n",
    "\n",
    "# Extract future SSP projection data\n"
   ]
  },
  {
   "cell_type": "code",
   "execution_count": 29,
   "id": "8dde94b9-c0ff-4640-81bc-71961701204e",
   "metadata": {},
   "outputs": [],
   "source": [
    "# Print the data frames\n"
   ]
  },
  {
   "cell_type": "markdown",
   "id": "ad68e639-b528-49b6-aaaa-a7e062349016",
   "metadata": {},
   "source": [
    "From printing out the data frames above and looking at the `member_id` field, we can see that this dataset is nice and well behaved: all the same ensemble members are available in the historical and the SSP3-7.0 ensembles, and the members are listed in the same order. **This will not always be the case!!** Sometimes modeling centers don't extend all historical simulations out to 2100 using the SSP scenarios, and sometimes they'll end up reordered in random ways relative to one another. \n",
    "\n",
    "What do we do about this situation? It's not too bad, really: we just have to make sure that as we're reading in data, the ensemble members _match_ between the historical and future projection simulations."
   ]
  },
  {
   "cell_type": "markdown",
   "id": "5855dc62-063f-4252-8a45-528e6f68a1d7",
   "metadata": {},
   "source": [
    "We'll go through essentially the same process outlined in tutorials 1 and 2 in this repo: looping over each unique ensemble member, reading in the data from the zarr store as an individual xarray Dataset, then building a list of xarray objects. From there, we'll use `xr.concat` to transform the list into a larger xarray Dataset with a new dimension called `member`, the coordinate for which is the name of each unique ensemble member.\n",
    "\n",
    "**But now there's a twist**: the members we'll loop over will be ONLY those that are in BOTH the historical AND the future projection ensembles!\n",
    "\n",
    "Not only that, but we'll also add code that will automatically LOCATE the ensemble member we want inside the two data frames we created above. \n",
    "\n",
    "#### **Here's how it works:**\n",
    "\n",
    "First, we locate the members that are common across the historical and SSP ensembles. We can do this by converting the lists of unique members from each ensembles to sets using the `set()` command, then calculating the [_set intersection_](https://www.w3schools.com/python/ref_set_intersection.asp) between them (syntax for this is `set1 & set2`), then converting this back to a list using the `list()` command. To make the code shorter, I did all of the above in a single line:"
   ]
  },
  {
   "cell_type": "code",
   "execution_count": 8,
   "id": "802f7726-9dfd-48d6-a760-8b0fa0455ca3",
   "metadata": {},
   "outputs": [],
   "source": [
    "# Make a list of the unique ensemble members\n",
    "# historical\n",
    "\n",
    "# SSP\n",
    "\n",
    "\n",
    "# Convert these to sets, find the intersection between them, and convert back to a list\n"
   ]
  },
  {
   "cell_type": "markdown",
   "id": "3715dd32-9ff9-4e5b-b308-8c1a5610721b",
   "metadata": {},
   "source": [
    "Now we've got a new list of members to iterate over! In this particular case, it's the exact same list we had before - but again, that likely won't be the case in every example you encounter.\n",
    "\n",
    "We apply the same approach of looping over the number of unique ensemble members - but now, there's new line code _inside_ the loop, that does a couple of things:\n",
    "- finds where the particular ensemble member we want is in each data frame (historical and SSP)\n",
    "- extracts data individually from each data frame from that location\n",
    "- concatenates the historical and SSP data across the time dimension\n",
    "\n",
    "THEN puts the concatenated data for that ensemble member into the list of output data!"
   ]
  },
  {
   "cell_type": "code",
   "execution_count": null,
   "id": "da3cf25a-a278-4e7a-962d-c5d01d6c8ac4",
   "metadata": {},
   "outputs": [],
   "source": [
    "# Define an empty list for output data\n",
    "access_data = []\n",
    "\n",
    "# Retrieve number of members the historical and SSP ensembles have in common\n",
    "num = len(common_mems)\n",
    "\n",
    "# Loop over all members-in-common\n",
    "for mem in range(num):\n",
    "    # Print statement to keep track of which member we're working on\n",
    "    print(common_mems[mem])\n",
    "    \n",
    "    # Figure out where this member is in the historical ensemble\n",
    "    # True/False array showing whether or not the member_id matches our member of interest\n",
    "    \n",
    "    # extract (first) location where the mask is True\n",
    "    \n",
    "    \n",
    "    # Do the same thing for the SSP ensemble\n",
    "    \n",
    "    # Extract data from each entry as xarray\n",
    "    \n",
    "    # Concatenate the historical and SSP data across the time dimension\n",
    "    \n",
    "    # Add the concatenated data to a list\n",
    "\n",
    "# Concatenate the list into a single xarray object\n",
    "\n",
    "# Store the actual member information as values of the new dimension\n"
   ]
  },
  {
   "cell_type": "code",
   "execution_count": 30,
   "id": "4b5ca25b-e3d0-455f-a3d9-947c8809b8ee",
   "metadata": {},
   "outputs": [],
   "source": [
    "# Print out the full dataset to make sure it looks right\n"
   ]
  },
  {
   "cell_type": "markdown",
   "id": "093ab0ef-fb79-48b5-93a9-b75a5ee887f0",
   "metadata": {},
   "source": [
    "The print statement above should show that the output data has dimension:\n",
    "- lat and lon (should correspond to the same sizes as each original input data set)\n",
    "- member (should be the same length as the `common_mems` list we built above)\n",
    "- time (should be the sum of the lengths of the historical and SSP datasets - or 12 x the number of total years from 1850-2100)\n",
    "- bnds (this is the weird dimension of length 2, that relates to the boundaries between time steps or lat/lon grids - you don't need this one)\n"
   ]
  },
  {
   "cell_type": "markdown",
   "id": "09ed941a-1239-4289-a70c-36037d393239",
   "metadata": {},
   "source": [
    "<a id='mask'></a> \n",
    "## **Apply CA State Region Mask**\n",
    "\n",
    "Now that we've determined what variable and set of historical model ensembles we're interested in, let's go further and pull out the data that covers just the state of California! We covered the basic steps involved with this in [tutorial 2](https://github.com/climate-datalab/EnsembleAnalysis/blob/main/2.%20Plotting%20Regional%20Time%20Series%20Using%20Shapefiles.ipynb). \n",
    "\n",
    "First, read in the shape file for the CA state boundary and reproject it to a projection of your choice (here I am using PlateCarree since it's what we were working with in earlier mapping tutorials):"
   ]
  },
  {
   "cell_type": "code",
   "execution_count": 11,
   "id": "4c232449-812b-4e5f-aaad-1e145b3c7c43",
   "metadata": {},
   "outputs": [],
   "source": [
    "# Read in shapefile for CA state boundary\n",
    "\n",
    "# Reproject the shapefile to use the PlateCarree projection\n"
   ]
  },
  {
   "cell_type": "markdown",
   "id": "9563b0b1-20cf-4aec-a4b0-9eb5575ba31c",
   "metadata": {},
   "source": [
    "Next, determine which lat/lon points in the model grid you're working with fall within the boundaries of that shape file. We've been doing this using the following procedure:\n",
    "1) Convert the model lat and lon coordinates to two-dimensional variables if they are currently 1D\n",
    "\n",
    "2) Convert the longitude values to the -180 to 180 convention if they currently range from 0 to 360\n",
    "\n",
    "3) Create a set of Shapely \"points\" from the set of all (lat,lon) combinations in the model grid\n",
    "\n",
    "4) Combine these points into a GeoDataFrame using the same coordinate reference system as the shape file\n",
    "\n",
    "5) Perform a spatial join of the shape file and the model grid GeoDataFrame\n",
    "\n",
    "Code to perform these steps is below:"
   ]
  },
  {
   "cell_type": "code",
   "execution_count": 12,
   "id": "866760ba-7ddc-4f4d-99cc-e786c588724f",
   "metadata": {},
   "outputs": [],
   "source": [
    "# Make 2D lat, lon\n",
    "\n",
    "# Convert values of longitude greater than 180 to negative values\n",
    "\n",
    "# Build a list of 'points' from the model grid\n",
    "\n",
    "# Create a GeoDataFrame from the xarray dataset's coordinates\n",
    "\n",
    "# Spatial join to find points within the shapefile\n"
   ]
  },
  {
   "cell_type": "markdown",
   "id": "1c1a8e42-d8b5-46c3-a23f-e4e879636341",
   "metadata": {},
   "source": [
    "After the process of identifying the points inside and outside of the shape file, you still have to apply this as a mask to the actual climate data!\n",
    "\n",
    "We did **this** using the following procedure:\n",
    "\n",
    "1) Build an array of indices having the same length as the climate model grid\n",
    "\n",
    "2) Mask out the indices that are outside the shape file (stored in the `joined` variable above)\n",
    "\n",
    "3) Reshape the array to have the same _shape_ as the climate model grid\n",
    "\n",
    "4) Apply the logical mask to the actual climate variable\n",
    "\n",
    "Code to perform these steps is below:"
   ]
  },
  {
   "cell_type": "code",
   "execution_count": 13,
   "id": "1ee4b908-9a44-4c88-8ca7-8ee2295ebb2e",
   "metadata": {},
   "outputs": [],
   "source": [
    "# Identify indices of \"good\" data\n",
    "# total number of points\n",
    "\n",
    "# make an array of indices of length num_points\n",
    "\n",
    "# Make a logical mask that tells you whether or not \n",
    "# that index is in the set of joined points\n",
    "\n",
    "# Reshape to the original shape of the lat/lon grid\n",
    "\n",
    "# Apply mask to the data\n"
   ]
  },
  {
   "cell_type": "markdown",
   "id": "edc254b8-dad8-4993-9621-5f2863a9daf2",
   "metadata": {},
   "source": [
    "As a final step, we'll average over the lat and lon dimensions to get a time series of regionally averaged temperature over California. Note: for simplicity here, I'm excluding the area weighting step, but technically you'd want to include that as well in a scientific analysis you were going to use for real."
   ]
  },
  {
   "cell_type": "code",
   "execution_count": 14,
   "id": "488338e5-64ca-4b1c-b5e9-f22a62e9cc59",
   "metadata": {},
   "outputs": [],
   "source": [
    "# Create regionally averaged time series\n"
   ]
  },
  {
   "cell_type": "markdown",
   "id": "beef58e8-5f81-4db6-9908-6a5ce4f8b7b3",
   "metadata": {},
   "source": [
    "#### Convert units to make the results more intuitive\n",
    "\n",
    "Before we get into the more sophisticated calculations, let's take a minute to think about the _units_ of the data. You can display them either by printing out the entire `tas` variable and scrolling down to view the units, or by using this syntax:"
   ]
  },
  {
   "cell_type": "code",
   "execution_count": 31,
   "id": "32c70113-80f6-4f3c-a826-311319b157a1",
   "metadata": {},
   "outputs": [],
   "source": [
    "# Print out units\n"
   ]
  },
  {
   "cell_type": "markdown",
   "id": "82c3e2b0-0d75-47fb-a5d2-9312d4cd7f74",
   "metadata": {},
   "source": [
    "Since these temperatures are shown in Kelvin, we can use the formula below to convert them to a more familiar unit of Fahrenheit:"
   ]
  },
  {
   "cell_type": "code",
   "execution_count": 16,
   "id": "5aebb151-5a02-4b1c-9161-e95373f8ea1c",
   "metadata": {},
   "outputs": [],
   "source": [
    "# Convert Kelvin to Fahrenheit\n"
   ]
  },
  {
   "attachments": {
    "b2e2ea6e-d2db-44ea-82b8-66a604e59ab6.png": {
     "image/png": "[encoded data removed]"
    }
   },
   "cell_type": "markdown",
   "id": "4d56730a-39b8-4552-9bb2-ae02e45a865e",
   "metadata": {},
   "source": [
    "<a id='pdfs'></a> \n",
    "## **Build PDFs of Regionally Averaged Data**\n",
    "\n",
    "Now we're finally at the point of being able to do some analysis! \n",
    "\n",
    "We'll first use the mask from the previous section to create regionally averaged time series for the state of California, then start building some probability distribution functions (PDFs). \n",
    "\n",
    "### Why would you want to do this??\n",
    "\n",
    "Knowing how to build PDFs is a really useful skill! This is an important way that scientists and environmental managers determine the significance of changes between different time periods: or in other words, it's how you can tell that there's something different going on that you might need to plan for.\n",
    "\n",
    "This can come in handy, for instance, when you're trying to figure out whether the likelihood of extremely damaging events like heat waves or extreme rainstorms has changed. Or maybe you're just trying to see if there really is ANY effect of climate change on your particular variable of interest!\n",
    "\n",
    "### How do we do this?? With kernel density estimation!\n",
    "\n",
    "We'll take advantage of the Scipy stats package! Within `stats`, there is a function called `gaussian_kde` which is really nice for creating visualizations of PDF data. \n",
    "\n",
    "Here the KDE stands for **kernel density estimation**: basically, it's the process of using a moving window, or _kernel_, to smooth out the distribution of your data so it doesn't look \"blocky\" like a traditional histogram:\n",
    "\n",
    "![image.png](attachment:b2e2ea6e-d2db-44ea-82b8-66a604e59ab6.png)!\n",
    "\n",
    "The shape of the kernel can be essentially whatever you want, but a _Gaussian_ (bell curve) is a good choice since it does a nice job of smoothing things out. \n",
    "\n",
    "A nice, clear conceptual explanation of the KDE process can be found [here](https://ekamperi.github.io/math/2020/12/08/kernel-density-estimation.html)."
   ]
  },
  {
   "cell_type": "markdown",
   "id": "2d1866bc-f071-44c5-9457-64254224670f",
   "metadata": {},
   "source": [
    "#### **Extract data from all members for a given time period**\n",
    "\n",
    "We'll choose a couple of interesting time periods to compare: let's say, the past 50 years versus the next 50 years. \n",
    "\n",
    "For this, we can use the combination of `.sel()` and `.slice()` applied to the xarray datasets containing temperature for the entire ensemble:"
   ]
  },
  {
   "cell_type": "code",
   "execution_count": 17,
   "id": "a1f4d606-786c-43f0-bf58-57aaa93a981e",
   "metadata": {},
   "outputs": [],
   "source": [
    "# Get data for an earlier period: 20th century\n",
    "\n",
    "# Get data for a later period: 21st century\n"
   ]
  },
  {
   "cell_type": "markdown",
   "id": "2d34f544-0bbb-49ba-a042-e69d033e6309",
   "metadata": {},
   "source": [
    "To make it easier to operate on the underlying data (as well as speeding up the next steps in the notebook!), let's also extract the values of the `.pr` variable for each of those epochs into Numpy arrays.\n",
    "\n",
    "**Note: this step may be quite slow!** On my local laptop, it took roughly 3-5 minutes to run. This will likely be faster on a server or more powerful machine!"
   ]
  },
  {
   "cell_type": "code",
   "execution_count": 18,
   "id": "ba243690-6a9e-45a5-89a5-54fcfcb69ec0",
   "metadata": {},
   "outputs": [],
   "source": [
    "# Extract values into Numpy arrays to make it easier to work with in the KDE package\n"
   ]
  },
  {
   "cell_type": "markdown",
   "id": "7f5f55d5-f816-44c4-9d63-988d6acde2d8",
   "metadata": {},
   "source": [
    "#### Reshape data into a vector\n",
    "\n",
    "We need to do one more thing before we can calculate our KDE values. Recall that the xarray datasets we are working with have all the ensemble members stored in them: that means that when we extract temperature data for each time period, it has dimension of both `time` and `member`. "
   ]
  },
  {
   "cell_type": "code",
   "execution_count": 32,
   "id": "e40d759b-e4e5-42b5-971e-8969f46d8e99",
   "metadata": {},
   "outputs": [],
   "source": [
    "# Print data to demonstrate its shape\n"
   ]
  },
  {
   "cell_type": "markdown",
   "id": "94e9d79e-58f0-4c4d-bc59-507af45d0456",
   "metadata": {},
   "source": [
    "If we feed this data directly to `gaussian_kde`, it will calculate separate distributions for each ensemble member! That's not what we want here: since each ensemble member is a distinct _realization_ of the time period we're interested in, by **combining** all of them together we can get a better picture of all the possible variations that COULD have happened during that time period.\n",
    "\n",
    "...or in other words: the more ensemble members we include, the better an estimate we have of the \"true\" climate during any given period!\n",
    "\n",
    "To achieve this, we can use the Numpy `reshape()` function: this can be applied to any Numpy array. Here I'll give it an argument of -1, which means \"stick everything together into a single 1D array\":"
   ]
  },
  {
   "cell_type": "code",
   "execution_count": 20,
   "id": "6e2aa18e-fbef-4646-bbb4-a6dc430859aa",
   "metadata": {},
   "outputs": [],
   "source": [
    "# Reshape Numpy arrays into vectors\n"
   ]
  },
  {
   "cell_type": "markdown",
   "id": "1ceb4092-886a-4f29-8b0d-dda567826746",
   "metadata": {},
   "source": [
    "#### Apply the KDE, evaluate at specific values\n",
    "\n",
    "Now we're finally ready to apply the KDE! This is done simply using the `gaussian_kde` command:"
   ]
  },
  {
   "cell_type": "code",
   "execution_count": 21,
   "id": "7a02e7f2-fe55-4746-8301-c26e75325bc8",
   "metadata": {},
   "outputs": [],
   "source": [
    "# Create KDE objects\n"
   ]
  },
  {
   "cell_type": "markdown",
   "id": "bf6c2cb6-99ce-40d5-83cf-30e07821733d",
   "metadata": {},
   "source": [
    "The code block above will generate _operators_ that will tell you the value of the probability distribution for any value of temperature! This is kind of conceptually similar to the output produced by `groupby`: the `groupby` function itself makes the groupings, but then you have to actually do something with those groups (like average over them) to get numbers out that you can use.\n",
    "\n",
    "That means that we have to decide on the values of temperature we're interested in knowing probabilities for! This is equivalent to choosing bins for building a histogram - the only difference is that the probabilities will be connected by a smooth line, rather than having discrete boxes for each temperature value. \n",
    "\n",
    "Choosing the bins can be a bit of a trial and error operation sometimes; to get a ballpark idea of the range you need, you can try displaying the mean, minimum, or maximum values from the DataArray before you start! Or you can just pick things that seem reasonable, then see if you're obviously missing the tails of the PDF at the plotting stage;"
   ]
  },
  {
   "cell_type": "code",
   "execution_count": 22,
   "id": "6456fe25-3ee1-4727-9477-0f7f87f897d8",
   "metadata": {},
   "outputs": [],
   "source": [
    "# Bins: values of temperature at which to evaluate KDEs\n",
    "\n",
    "# Evaluate KDEs at bin values\n"
   ]
  },
  {
   "cell_type": "markdown",
   "id": "acd08b32-4602-4ba9-9cdd-532d967d2023",
   "metadata": {},
   "source": [
    "Now we've built our two probability arrays, and we can just simply plot them! In the plot below, the PDF for the early period will show up as black (color \"k\" in Matplotlib), and the PDF for the later period will be a red dashed line (in Matplotlib, this is done using the \"r\" letter combined with the \"--\" line style symbol)."
   ]
  },
  {
   "cell_type": "code",
   "execution_count": 33,
   "id": "e383c196-5918-4f30-92cd-a58a7f1ce0fc",
   "metadata": {},
   "outputs": [],
   "source": [
    "# Plot results\n"
   ]
  },
  {
   "cell_type": "markdown",
   "id": "8cbdd199-99d0-4c2b-babe-2e0d2ccec54f",
   "metadata": {},
   "source": [
    "<a id='sigtests'></a> \n",
    "## **Perform Significance Tests**\n",
    "\n",
    "From the plot above, it's fairly visually obvious that there is a difference between the temperature distributions in the early versus later periods. But we can be more quantitative about this, using various statistical significance testing procedures!\n",
    "\n",
    "Two commonly employed tests of significance that we'll demonstrate here are:\n",
    "- the T-test, sometimes called the Student's T-test: this is a _parametric_ test\n",
    "- the rank-sum test, sometimes called the Wilcoxon rank-sum test: this is a _non-parametric_ test\n",
    "\n",
    "### What does it mean for a test to be parametric or non-parametric?\n",
    "\n",
    "This terminology might seem a little confusing at first, but it boils down to a relatively simple idea:\n",
    "- **Do you know what your data is supposed to look like?**\n",
    "\n",
    "If the answer to that question is yes, then you can use a _parametric_ test (since you in theory know the shape - or the _parameters_ - of the data distribution).\n",
    "\n",
    "If the answer to that question is no, then you should use a _non-parametric_ test that doesn't depend on assuming anything about what the distribution of the data should be!\n",
    "\n",
    "Usually when we're talking about parametric tests, the assumption we make about the data distribution is that it is _Gaussian_: or, that it follows a traditional \"bell curve\" shape. \n",
    "\n",
    "As you can see from the PDFs above, this is NOT always a good assumption! But here are some examples that will let you apply both types of test anyway.\n",
    "\n",
    "### Parametric test example: T-test\n",
    "\n",
    "First, we'll apply the T-test, which is probably the most common type of statistical test you'll encounter. This is a test on the _mean_, which simply asks:\n",
    "- are the means of two distributions significantly different from each other?\n",
    "\n",
    "In Python, you can perform a T-test using Scipy's `ttest_ind` function, which is a T test on independent samples of data. More on that function can be found [here](https://docs.scipy.org/doc/scipy/reference/generated/scipy.stats.ttest_ind.html)!"
   ]
  },
  {
   "cell_type": "code",
   "execution_count": 34,
   "id": "44c159c6-7cf2-4e6f-8ee9-1c556249b76a",
   "metadata": {},
   "outputs": [],
   "source": [
    "# Run T test on early versus late periods\n",
    "\n",
    "# Look at the p-value\n"
   ]
  },
  {
   "cell_type": "markdown",
   "id": "96a7133b-6aec-4100-b4a0-2a5cfdb6a088",
   "metadata": {},
   "source": [
    "From looking at the p-value above, we see that it's WELL below 0.1 - these changes are highly statistically significant.\n",
    "\n",
    "BUT, we also can visually see from the PDF plot that the T test isn't actually the most appropriate one to use here! \n",
    "\n",
    "### Non-parametric test example: Rank-sum test\n",
    "\n",
    "Let's apply a non-parametric test since our data has an irregular distribution. In Python, you can use Scipy again to perform this test: it's called `ranksums`:"
   ]
  },
  {
   "cell_type": "code",
   "execution_count": 35,
   "id": "b7326db6-fa63-4751-945f-222ed12c75f5",
   "metadata": {},
   "outputs": [],
   "source": [
    "# Run rank-sum test on early versus late periods\n",
    "\n",
    "# Print p-value\n"
   ]
  },
  {
   "cell_type": "markdown",
   "id": "ec972373-059d-4e22-939e-a53c1c66a723",
   "metadata": {},
   "source": [
    "There you go - in a situation like this where the signal is quite large, you get a highly significant result no matter what test you use!\n",
    "\n",
    "This concludes this tutorial: now you have some additional statistical tools to put towards your future analyses."
   ]
  },
  {
   "cell_type": "code",
   "execution_count": null,
   "id": "f7aadc62-267d-4294-8411-da9fcd503719",
   "metadata": {},
   "outputs": [],
   "source": []
  }
 ],
 "metadata": {
  "kernelspec": {
   "display_name": "Anaconda 3 (EDS296)",
   "language": "python",
   "name": "eds196-stevenson"
  },
  "language_info": {
   "codemirror_mode": {
    "name": "ipython",
    "version": 3
   },
   "file_extension": ".py",
   "mimetype": "text/x-python",
   "name": "python",
   "nbconvert_exporter": "python",
   "pygments_lexer": "ipython3",
   "version": "3.8.18"
  }
 },
 "nbformat": 4,
 "nbformat_minor": 5
}
